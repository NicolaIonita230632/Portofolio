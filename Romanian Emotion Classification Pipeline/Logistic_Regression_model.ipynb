{
 "cells": [
  {
   "cell_type": "markdown",
   "metadata": {},
   "source": [
    "## Task 5 - Logistic Regression"
   ]
  },
  {
   "cell_type": "code",
   "execution_count": 21,
   "metadata": {},
   "outputs": [],
   "source": [
    "# Import required libraries\n",
    "import pandas as pd\n",
    "import numpy as np\n",
    "import re\n",
    "import string\n",
    "import ast\n",
    "from sklearn.feature_extraction.text import TfidfVectorizer\n",
    "from sklearn.model_selection import train_test_split\n",
    "from sklearn.linear_model import LogisticRegression\n",
    "from sklearn.preprocessing import StandardScaler\n",
    "import seaborn as sns\n",
    "from sklearn.metrics import accuracy_score, confusion_matrix, classification_report, roc_curve, auc, precision_recall_curve\n",
    "import matplotlib.pyplot as plt\n",
    "from sklearn.preprocessing import LabelEncoder\n",
    "from sklearn.preprocessing import label_binarize\n",
    "from sklearn.metrics import roc_curve, auc\n",
    "from imblearn.over_sampling import SMOTE\n",
    "from collections import Counter\n",
    "from sklearn.model_selection import GridSearchCV"
   ]
  },
  {
   "cell_type": "markdown",
   "metadata": {},
   "source": [
    "#### I used the XED dataset from the suggested datasets"
   ]
  },
  {
   "cell_type": "code",
   "execution_count": 2,
   "metadata": {},
   "outputs": [
    {
     "data": {
      "text/html": [
       "<div>\n",
       "<style scoped>\n",
       "    .dataframe tbody tr th:only-of-type {\n",
       "        vertical-align: middle;\n",
       "    }\n",
       "\n",
       "    .dataframe tbody tr th {\n",
       "        vertical-align: top;\n",
       "    }\n",
       "\n",
       "    .dataframe thead th {\n",
       "        text-align: right;\n",
       "    }\n",
       "</style>\n",
       "<table border=\"1\" class=\"dataframe\">\n",
       "  <thead>\n",
       "    <tr style=\"text-align: right;\">\n",
       "      <th></th>\n",
       "      <th>sentence</th>\n",
       "      <th>labels</th>\n",
       "    </tr>\n",
       "  </thead>\n",
       "  <tbody>\n",
       "    <tr>\n",
       "      <th>0</th>\n",
       "      <td>Hai, omule.</td>\n",
       "      <td>6, 7</td>\n",
       "    </tr>\n",
       "    <tr>\n",
       "      <th>1</th>\n",
       "      <td>Am spart-o.</td>\n",
       "      <td>1, 4</td>\n",
       "    </tr>\n",
       "    <tr>\n",
       "      <th>2</th>\n",
       "      <td>Hai, marcă banu', barosane.</td>\n",
       "      <td>2, 5</td>\n",
       "    </tr>\n",
       "    <tr>\n",
       "      <th>3</th>\n",
       "      <td>Ţi-am zis să nu-mi mai spui aşa.</td>\n",
       "      <td>1</td>\n",
       "    </tr>\n",
       "    <tr>\n",
       "      <th>4</th>\n",
       "      <td>Îi faci tu praf pe toţi sau îi fac eu?</td>\n",
       "      <td>2</td>\n",
       "    </tr>\n",
       "    <tr>\n",
       "      <th>5</th>\n",
       "      <td>Cum adică sec?</td>\n",
       "      <td>7</td>\n",
       "    </tr>\n",
       "    <tr>\n",
       "      <th>6</th>\n",
       "      <td>Sunteţi orbi, băieţi?</td>\n",
       "      <td>1</td>\n",
       "    </tr>\n",
       "    <tr>\n",
       "      <th>7</th>\n",
       "      <td>Cred că cineva a mânărit cărţile.</td>\n",
       "      <td>1, 4</td>\n",
       "    </tr>\n",
       "    <tr>\n",
       "      <th>8</th>\n",
       "      <td>Eşti nebun?</td>\n",
       "      <td>1, 7</td>\n",
       "    </tr>\n",
       "    <tr>\n",
       "      <th>9</th>\n",
       "      <td>Nu punea el 194 $ pe o amărâtă de pereche.</td>\n",
       "      <td>1, 3</td>\n",
       "    </tr>\n",
       "  </tbody>\n",
       "</table>\n",
       "</div>"
      ],
      "text/plain": [
       "                                     sentence labels\n",
       "0                                 Hai, omule.   6, 7\n",
       "1                                 Am spart-o.   1, 4\n",
       "2                 Hai, marcă banu', barosane.   2, 5\n",
       "3            Ţi-am zis să nu-mi mai spui aşa.      1\n",
       "4      Îi faci tu praf pe toţi sau îi fac eu?      2\n",
       "5                              Cum adică sec?      7\n",
       "6                       Sunteţi orbi, băieţi?      1\n",
       "7           Cred că cineva a mânărit cărţile.   1, 4\n",
       "8                                 Eşti nebun?   1, 7\n",
       "9  Nu punea el 194 $ pe o amărâtă de pereche.   1, 3"
      ]
     },
     "execution_count": 2,
     "metadata": {},
     "output_type": "execute_result"
    }
   ],
   "source": [
    "# Load the XED dataset\n",
    "data = pd.read_csv(r\"C:\\Users\\40762\\OneDrive\\Desktop\\2024-25c-fai2-adsai-NicolaIonita230632\\Week 3\\Data Lab\\ro-projections.csv\")\n",
    "df = pd.DataFrame(data)\n",
    "df.head(10)"
   ]
  },
  {
   "cell_type": "code",
   "execution_count": 3,
   "metadata": {},
   "outputs": [
    {
     "data": {
      "text/html": [
       "<div>\n",
       "<style scoped>\n",
       "    .dataframe tbody tr th:only-of-type {\n",
       "        vertical-align: middle;\n",
       "    }\n",
       "\n",
       "    .dataframe tbody tr th {\n",
       "        vertical-align: top;\n",
       "    }\n",
       "\n",
       "    .dataframe thead th {\n",
       "        text-align: right;\n",
       "    }\n",
       "</style>\n",
       "<table border=\"1\" class=\"dataframe\">\n",
       "  <thead>\n",
       "    <tr style=\"text-align: right;\">\n",
       "      <th></th>\n",
       "      <th>Start Time</th>\n",
       "      <th>End Time</th>\n",
       "      <th>Sentence</th>\n",
       "      <th>Corrected Sentence</th>\n",
       "      <th>Translation</th>\n",
       "      <th>Emotion</th>\n",
       "      <th>Intensity</th>\n",
       "    </tr>\n",
       "  </thead>\n",
       "  <tbody>\n",
       "    <tr>\n",
       "      <th>0</th>\n",
       "      <td>00:00:00,000</td>\n",
       "      <td>00:00:03,000</td>\n",
       "      <td>BOH-AM-Z 200%</td>\n",
       "      <td>BOH-AM-Z 200%</td>\n",
       "      <td>Boh-am-Z 200%</td>\n",
       "      <td>confusion</td>\n",
       "      <td>moderate</td>\n",
       "    </tr>\n",
       "    <tr>\n",
       "      <th>1</th>\n",
       "      <td>00:00:03,000</td>\n",
       "      <td>00:00:09,000</td>\n",
       "      <td>ONLY ACTIVATES WHEN MEN'T ACTIVE</td>\n",
       "      <td>ONLY ACTIVATES WHEN MEN'T ACTIVE</td>\n",
       "      <td>ONLY ACTIVATES WHEN MEN'T ACTIVE</td>\n",
       "      <td>confusion</td>\n",
       "      <td>moderate</td>\n",
       "    </tr>\n",
       "    <tr>\n",
       "      <th>2</th>\n",
       "      <td>00:00:11,000</td>\n",
       "      <td>00:00:19,000</td>\n",
       "      <td>LEST ARGUE</td>\n",
       "      <td>LEST ARGUE</td>\n",
       "      <td>LEST ARGUE</td>\n",
       "      <td>annoyance</td>\n",
       "      <td>moderate</td>\n",
       "    </tr>\n",
       "    <tr>\n",
       "      <th>3</th>\n",
       "      <td>00:00:19,000</td>\n",
       "      <td>00:00:20,000</td>\n",
       "      <td>OUCH</td>\n",
       "      <td>OUCH</td>\n",
       "      <td>OUCH</td>\n",
       "      <td>NaN</td>\n",
       "      <td>NaN</td>\n",
       "    </tr>\n",
       "    <tr>\n",
       "      <th>4</th>\n",
       "      <td>00:00:20,000</td>\n",
       "      <td>00:00:23,000</td>\n",
       "      <td>BECAUSE PEP rapt is my favorite boo and is 100...</td>\n",
       "      <td>BECAUSE PEP rapt is my favorite boo and is 100...</td>\n",
       "      <td>BECAUSE PEP rapt is my favorite boo and is 100...</td>\n",
       "      <td>joy</td>\n",
       "      <td>mild</td>\n",
       "    </tr>\n",
       "    <tr>\n",
       "      <th>5</th>\n",
       "      <td>00:00:23,000</td>\n",
       "      <td>00:00:25,000</td>\n",
       "      <td>WHOOKA WHOOKA WHOOKAPEW</td>\n",
       "      <td>WHOOKA WHOOKA WHOOKAPEW</td>\n",
       "      <td>WHOOKA WHOOKA WHOOKAPEW</td>\n",
       "      <td>amusement</td>\n",
       "      <td>mild</td>\n",
       "    </tr>\n",
       "    <tr>\n",
       "      <th>6</th>\n",
       "      <td>00:00:25,000</td>\n",
       "      <td>00:00:25,000</td>\n",
       "      <td>F rect</td>\n",
       "      <td>F rect</td>\n",
       "      <td>F rect</td>\n",
       "      <td>neutral</td>\n",
       "      <td>neutral</td>\n",
       "    </tr>\n",
       "    <tr>\n",
       "      <th>7</th>\n",
       "      <td>00:00:25,000</td>\n",
       "      <td>00:00:26,000</td>\n",
       "      <td>S rect</td>\n",
       "      <td>S rect</td>\n",
       "      <td>S rect</td>\n",
       "      <td>neutral</td>\n",
       "      <td>neutral</td>\n",
       "    </tr>\n",
       "    <tr>\n",
       "      <th>8</th>\n",
       "      <td>00:00:26,000</td>\n",
       "      <td>00:00:26,000</td>\n",
       "      <td>S rect</td>\n",
       "      <td>S rect</td>\n",
       "      <td>S rect</td>\n",
       "      <td>neutral</td>\n",
       "      <td>neutral</td>\n",
       "    </tr>\n",
       "    <tr>\n",
       "      <th>9</th>\n",
       "      <td>00:00:26,000</td>\n",
       "      <td>00:00:27,000</td>\n",
       "      <td>probably</td>\n",
       "      <td>probably</td>\n",
       "      <td>probably</td>\n",
       "      <td>neutral</td>\n",
       "      <td>neutral</td>\n",
       "    </tr>\n",
       "  </tbody>\n",
       "</table>\n",
       "</div>"
      ],
      "text/plain": [
       "     Start Time      End Time  \\\n",
       "0  00:00:00,000  00:00:03,000   \n",
       "1  00:00:03,000  00:00:09,000   \n",
       "2  00:00:11,000  00:00:19,000   \n",
       "3  00:00:19,000  00:00:20,000   \n",
       "4  00:00:20,000  00:00:23,000   \n",
       "5  00:00:23,000  00:00:25,000   \n",
       "6  00:00:25,000  00:00:25,000   \n",
       "7  00:00:25,000  00:00:26,000   \n",
       "8  00:00:26,000  00:00:26,000   \n",
       "9  00:00:26,000  00:00:27,000   \n",
       "\n",
       "                                            Sentence  \\\n",
       "0                                      BOH-AM-Z 200%   \n",
       "1                   ONLY ACTIVATES WHEN MEN'T ACTIVE   \n",
       "2                                         LEST ARGUE   \n",
       "3                                               OUCH   \n",
       "4  BECAUSE PEP rapt is my favorite boo and is 100...   \n",
       "5                            WHOOKA WHOOKA WHOOKAPEW   \n",
       "6                                             F rect   \n",
       "7                                             S rect   \n",
       "8                                             S rect   \n",
       "9                                           probably   \n",
       "\n",
       "                                  Corrected Sentence  \\\n",
       "0                                      BOH-AM-Z 200%   \n",
       "1                   ONLY ACTIVATES WHEN MEN'T ACTIVE   \n",
       "2                                         LEST ARGUE   \n",
       "3                                               OUCH   \n",
       "4  BECAUSE PEP rapt is my favorite boo and is 100...   \n",
       "5                            WHOOKA WHOOKA WHOOKAPEW   \n",
       "6                                             F rect   \n",
       "7                                             S rect   \n",
       "8                                             S rect   \n",
       "9                                           probably   \n",
       "\n",
       "                                         Translation    Emotion Intensity  \n",
       "0                                      Boh-am-Z 200%  confusion  moderate  \n",
       "1                   ONLY ACTIVATES WHEN MEN'T ACTIVE  confusion  moderate  \n",
       "2                                         LEST ARGUE  annoyance  moderate  \n",
       "3                                               OUCH        NaN       NaN  \n",
       "4  BECAUSE PEP rapt is my favorite boo and is 100...        joy      mild  \n",
       "5                            WHOOKA WHOOKA WHOOKAPEW  amusement      mild  \n",
       "6                                             F rect    neutral   neutral  \n",
       "7                                             S rect    neutral   neutral  \n",
       "8                                             S rect    neutral   neutral  \n",
       "9                                           probably    neutral   neutral  "
      ]
     },
     "execution_count": 3,
     "metadata": {},
     "output_type": "execute_result"
    }
   ],
   "source": [
    "#Load test dataset\n",
    "testd = pd.read_csv(r\"C:\\Users\\40762\\OneDrive\\Desktop\\2024-25c-fai2-adsai-NicolaIonita230632\\Week 3\\Data Lab\\group 25.csv\")\n",
    "td = pd.DataFrame(testd)\n",
    "td.head(10)"
   ]
  },
  {
   "cell_type": "markdown",
   "metadata": {},
   "source": [
    "## Preprocessing the XED dataset"
   ]
  },
  {
   "cell_type": "markdown",
   "metadata": {},
   "source": [
    "#### Since there were more emotions adnotated, I decided to only keep the first one"
   ]
  },
  {
   "cell_type": "code",
   "execution_count": 4,
   "metadata": {},
   "outputs": [
    {
     "name": "stdout",
     "output_type": "stream",
     "text": [
      "                                     sentence labels primary_emotion\n",
      "0                                 Hai, omule.   6, 7               6\n",
      "1                                 Am spart-o.   1, 4               1\n",
      "2                 Hai, marcă banu', barosane.   2, 5               2\n",
      "3            Ţi-am zis să nu-mi mai spui aşa.      1               1\n",
      "4      Îi faci tu praf pe toţi sau îi fac eu?      2               2\n",
      "5                              Cum adică sec?      7               7\n",
      "6                       Sunteţi orbi, băieţi?      1               1\n",
      "7           Cred că cineva a mânărit cărţile.   1, 4               1\n",
      "8                                 Eşti nebun?   1, 7               1\n",
      "9  Nu punea el 194 $ pe o amărâtă de pereche.   1, 3               1\n"
     ]
    }
   ],
   "source": [
    "# Keep only the first emotion in 'primary_emotion' (split by commas and take the first one)\n",
    "df['primary_emotion'] = df['labels'].apply(lambda x: x.split(',')[0])\n",
    "\n",
    "# Check the first few rows to confirm that only the first emotion is kept\n",
    "print(df.head(10))"
   ]
  },
  {
   "cell_type": "markdown",
   "metadata": {},
   "source": [
    "#### I had to convert the values in the primary_emotion column to numeric values."
   ]
  },
  {
   "cell_type": "code",
   "execution_count": 5,
   "metadata": {},
   "outputs": [],
   "source": [
    "df['primary_emotion'] = pd.to_numeric(df['primary_emotion'], errors='coerce')"
   ]
  },
  {
   "cell_type": "code",
   "execution_count": 6,
   "metadata": {},
   "outputs": [
    {
     "name": "stdout",
     "output_type": "stream",
     "text": [
      "[6 1 2 7 5 3 4 8]\n"
     ]
    }
   ],
   "source": [
    "print(df['primary_emotion'].unique())"
   ]
  },
  {
   "cell_type": "markdown",
   "metadata": {},
   "source": [
    "#### Because in this dataset there were more than 7 emotions I had to remap them: first back into the words so I don't get them confused and then back into numbers to use them."
   ]
  },
  {
   "cell_type": "code",
   "execution_count": 7,
   "metadata": {},
   "outputs": [
    {
     "name": "stdout",
     "output_type": "stream",
     "text": [
      "                                 sentence labels  primary_emotion  \\\n",
      "0                             Hai, omule.   6, 7                6   \n",
      "1                             Am spart-o.   1, 4                1   \n",
      "2             Hai, marcă banu', barosane.   2, 5                2   \n",
      "3        Ţi-am zis să nu-mi mai spui aşa.      1                1   \n",
      "4  Îi faci tu praf pe toţi sau îi fac eu?      2                2   \n",
      "\n",
      "  emotion_words  \n",
      "0       sadness  \n",
      "1         anger  \n",
      "2     happiness  \n",
      "3         anger  \n",
      "4     happiness  \n"
     ]
    }
   ],
   "source": [
    "# Correct mapping from XED numeric codes to emotion labels\n",
    "xed_to_project = {\n",
    "    1: \"anger\",        # No change\n",
    "    2: \"happiness\",    # Changed from \"anticipation\" to \"happiness\"\n",
    "    3: \"disgust\",      # No change\n",
    "    4: \"fear\",         # No change\n",
    "    5: \"happiness\",    # Changed from \"joy\" to \"happiness\"\n",
    "    6: \"sadness\",      # No change\n",
    "    7: \"surprise\",     # No change\n",
    "    8: \"neutral\"       # Changed from \"trust\" to \"neutral\"\n",
    "}\n",
    "\n",
    "# Apply the mapping\n",
    "df['emotion_words'] = df['primary_emotion'].map(xed_to_project)  # Map XED numbers to emotions\n",
    "\n",
    "# Check the DataFrame after mapping\n",
    "print(df.head())"
   ]
  },
  {
   "cell_type": "code",
   "execution_count": 8,
   "metadata": {},
   "outputs": [
    {
     "name": "stdout",
     "output_type": "stream",
     "text": [
      "['sadness' 'anger' 'happiness' 'surprise' 'disgust' 'fear' 'neutral']\n"
     ]
    }
   ],
   "source": [
    "print(df['emotion_words'].unique())"
   ]
  },
  {
   "cell_type": "code",
   "execution_count": 9,
   "metadata": {},
   "outputs": [
    {
     "name": "stdout",
     "output_type": "stream",
     "text": [
      "                                 sentence labels  primary_emotion  \\\n",
      "0                             Hai, omule.   6, 7                6   \n",
      "1                             Am spart-o.   1, 4                1   \n",
      "2             Hai, marcă banu', barosane.   2, 5                2   \n",
      "3        Ţi-am zis să nu-mi mai spui aşa.      1                1   \n",
      "4  Îi faci tu praf pe toţi sau îi fac eu?      2                2   \n",
      "\n",
      "  emotion_words  final_emotion  \n",
      "0       sadness              5  \n",
      "1         anger              1  \n",
      "2     happiness              2  \n",
      "3         anger              1  \n",
      "4     happiness              2  \n"
     ]
    }
   ],
   "source": [
    "# Define the mapping from emotion labels to numeric codes\n",
    "project_to_xed = {\n",
    "    \"neutral\": 0,     # neutral\n",
    "    \"anger\": 1,       # anger\n",
    "    \"happiness\": 2,    # happiness\n",
    "    \"disgust\": 3,     # disgust\n",
    "    \"fear\": 4,         # fear\n",
    "    \"sadness\": 5,      # sadness\n",
    "    \"surprise\": 6      # surprise\n",
    "}\n",
    "\n",
    "# Apply the mapping back to numeric codes\n",
    "df['final_emotion'] = df['emotion_words'].map(project_to_xed)  # Map emotion words back to numeric values\n",
    "\n",
    "# Check the DataFrame after mapping\n",
    "print(df.head())"
   ]
  },
  {
   "cell_type": "code",
   "execution_count": 10,
   "metadata": {},
   "outputs": [
    {
     "name": "stdout",
     "output_type": "stream",
     "text": [
      "[5 1 2 6 3 4 0]\n"
     ]
    }
   ],
   "source": [
    "print(df['final_emotion'].unique())"
   ]
  },
  {
   "cell_type": "markdown",
   "metadata": {},
   "source": [
    "#### Like in task 4, I had to clean the sentences in order to use them"
   ]
  },
  {
   "cell_type": "code",
   "execution_count": 11,
   "metadata": {},
   "outputs": [
    {
     "data": {
      "text/html": [
       "<div>\n",
       "<style scoped>\n",
       "    .dataframe tbody tr th:only-of-type {\n",
       "        vertical-align: middle;\n",
       "    }\n",
       "\n",
       "    .dataframe tbody tr th {\n",
       "        vertical-align: top;\n",
       "    }\n",
       "\n",
       "    .dataframe thead th {\n",
       "        text-align: right;\n",
       "    }\n",
       "</style>\n",
       "<table border=\"1\" class=\"dataframe\">\n",
       "  <thead>\n",
       "    <tr style=\"text-align: right;\">\n",
       "      <th></th>\n",
       "      <th>sentence</th>\n",
       "      <th>labels</th>\n",
       "      <th>primary_emotion</th>\n",
       "      <th>emotion_words</th>\n",
       "      <th>final_emotion</th>\n",
       "      <th>Cleaned_Sentence</th>\n",
       "    </tr>\n",
       "  </thead>\n",
       "  <tbody>\n",
       "    <tr>\n",
       "      <th>0</th>\n",
       "      <td>Hai, omule.</td>\n",
       "      <td>6, 7</td>\n",
       "      <td>6</td>\n",
       "      <td>sadness</td>\n",
       "      <td>5</td>\n",
       "      <td>hai omule</td>\n",
       "    </tr>\n",
       "    <tr>\n",
       "      <th>1</th>\n",
       "      <td>Am spart-o.</td>\n",
       "      <td>1, 4</td>\n",
       "      <td>1</td>\n",
       "      <td>anger</td>\n",
       "      <td>1</td>\n",
       "      <td>am sparto</td>\n",
       "    </tr>\n",
       "    <tr>\n",
       "      <th>2</th>\n",
       "      <td>Hai, marcă banu', barosane.</td>\n",
       "      <td>2, 5</td>\n",
       "      <td>2</td>\n",
       "      <td>happiness</td>\n",
       "      <td>2</td>\n",
       "      <td>hai marcă banu barosane</td>\n",
       "    </tr>\n",
       "    <tr>\n",
       "      <th>3</th>\n",
       "      <td>Ţi-am zis să nu-mi mai spui aşa.</td>\n",
       "      <td>1</td>\n",
       "      <td>1</td>\n",
       "      <td>anger</td>\n",
       "      <td>1</td>\n",
       "      <td>ţiam zis să numi mai spui aşa</td>\n",
       "    </tr>\n",
       "    <tr>\n",
       "      <th>4</th>\n",
       "      <td>Îi faci tu praf pe toţi sau îi fac eu?</td>\n",
       "      <td>2</td>\n",
       "      <td>2</td>\n",
       "      <td>happiness</td>\n",
       "      <td>2</td>\n",
       "      <td>îi faci tu praf pe toţi sau îi fac eu</td>\n",
       "    </tr>\n",
       "  </tbody>\n",
       "</table>\n",
       "</div>"
      ],
      "text/plain": [
       "                                 sentence labels  primary_emotion  \\\n",
       "0                             Hai, omule.   6, 7                6   \n",
       "1                             Am spart-o.   1, 4                1   \n",
       "2             Hai, marcă banu', barosane.   2, 5                2   \n",
       "3        Ţi-am zis să nu-mi mai spui aşa.      1                1   \n",
       "4  Îi faci tu praf pe toţi sau îi fac eu?      2                2   \n",
       "\n",
       "  emotion_words  final_emotion                       Cleaned_Sentence  \n",
       "0       sadness              5                              hai omule  \n",
       "1         anger              1                              am sparto  \n",
       "2     happiness              2                hai marcă banu barosane  \n",
       "3         anger              1          ţiam zis să numi mai spui aşa  \n",
       "4     happiness              2  îi faci tu praf pe toţi sau îi fac eu  "
      ]
     },
     "execution_count": 11,
     "metadata": {},
     "output_type": "execute_result"
    }
   ],
   "source": [
    "# Define a function to clean sentences\n",
    "def clean_sentence(sentence):\n",
    "    # Check if the sentence is a string and not NaN or float\n",
    "    if isinstance(sentence, str):\n",
    "        # Convert to lowercase\n",
    "        sentence = sentence.lower()\n",
    "        # Remove punctuation and special characters\n",
    "        sentence = re.sub(r'[^\\w\\s]', '', sentence)  # Remove punctuation\n",
    "        # Remove extra spaces\n",
    "        sentence = re.sub(r'\\s+', ' ', sentence).strip()  # Replace multiple spaces with a single space\n",
    "    else:\n",
    "        sentence = ''  # If it's not a valid string, return an empty string\n",
    "    return sentence\n",
    "\n",
    "# Apply the cleaning function to the 'sentence' column\n",
    "df['Cleaned_Sentence'] = df['sentence'].apply(clean_sentence)\n",
    "\n",
    "# Check the DataFrame after cleaning\n",
    "df.head()"
   ]
  },
  {
   "cell_type": "code",
   "execution_count": 12,
   "metadata": {},
   "outputs": [],
   "source": [
    "# Drop rows with NaN values in the target variable (final_emotion)\n",
    "df_cleaned = df.dropna(subset=['final_emotion'])"
   ]
  },
  {
   "cell_type": "markdown",
   "metadata": {},
   "source": [
    "## Preprocessing the test dataset"
   ]
  },
  {
   "cell_type": "code",
   "execution_count": 13,
   "metadata": {},
   "outputs": [
    {
     "name": "stdout",
     "output_type": "stream",
     "text": [
      "Data shape after slicing: (1715, 2)\n",
      "Number of NaN values in 'Emotion' column after mapping: 173\n",
      "Data shape after dropping NaNs and duplicates: (1281, 2)\n",
      "                                    Corrected Sentence  Emotion\n",
      "297  Și să mai schimb momentul, că atunci când le-a...        5\n",
      "299                    Piatra de moară a acestui grup.        0\n",
      "300                                 Victor, zi Victor.        4\n",
      "301                          Hai dragă, încurajează-o.        4\n",
      "303                  Nu-mi place cum se văd saltalele.        0\n",
      "304  Hai, doar dă-i un dislike pe acela, că nu mai ...        0\n",
      "305                            Victor, stai așa, uite.        3\n",
      "306                               Le țin eu așa, uite.        4\n",
      "307                            Da, ia uite, ține fata.        3\n",
      "308                  Dar până unde ajungești, nu rola.        4\n"
     ]
    }
   ],
   "source": [
    "# Keep relevant columns\n",
    "td = td[['Corrected Sentence', 'Emotion']]\n",
    "\n",
    "# Slice dataset from row 297 onward\n",
    "td = td[297:]\n",
    "\n",
    "# Check the shape after slicing\n",
    "print(f\"Data shape after slicing: {td.shape}\")\n",
    "\n",
    "# Define emotion mapping\n",
    "emotion_mapping = {\n",
    "    \"happiness\": [\"joy\", \"optimism\", \"approval\", \"pride\", \"gratitude\", \"confidence\",\n",
    "        \"satisfaction\", \"hope\", \"love\", \"excitement\", \"caring\", \"relief\", \"admiration\",\n",
    "        \"amusement\", \"anticipation\", \"encouragement\", \"desire\", \"happiness\"],\n",
    "    \"sadness\": [\"disappointment\", \"nostalgia\", \"remorse\", \"pain\", \"stress\", \"regret\",\n",
    "        \"resignation\", \"despair\", \"confusion\", \"uncertainty\", \"sadness\"],\n",
    "    \"anger\": [\"anger\", \"annoyance\", \"disapproval\", \"frustration\", \"disbelief\", \"warning\",\n",
    "        \"rejection\"],\n",
    "    \"disgust\": [\"disgust\"],\n",
    "    \"fear\": [\"fear\", \"nervousness\", \"worry\", \"anxiety\", \"doubt\", \"insecurity\", \"urgency\",\n",
    "        \"panic\"],\n",
    "    \"surprise\": [\"surprise\", \"realization\", \"shock\", \"amazement\", \"wonder\"],\n",
    "    \"neutral\": [\"neutral\", \"mixed\", \"trust\", \"agreement\", \"instruction\", \"suggestion\",\n",
    "        \"request\", \"confirmation\", \"acceptance\", \"reassurance\", \"clarification\",\n",
    "        \"understanding\", \"certainty\"]\n",
    "}\n",
    "\n",
    "# Create lookup dictionary\n",
    "lookup = {emotion: category for category, emotions in emotion_mapping.items() for emotion in emotions}\n",
    "\n",
    "# Map emotions to main categories\n",
    "td[\"Emotion\"] = td[\"Emotion\"].map(lookup)\n",
    "\n",
    "# Check the number of NaN values in the \"Emotion\" column\n",
    "print(f\"Number of NaN values in 'Emotion' column after mapping: {td['Emotion'].isna().sum()}\")\n",
    "\n",
    "# Drop NaNs and duplicates\n",
    "td = td.dropna(subset=[\"Emotion\"])\n",
    "td = td.drop_duplicates(subset=[\"Corrected Sentence\"])\n",
    "\n",
    "# Check the shape after dropping NaNs and duplicates\n",
    "print(f\"Data shape after dropping NaNs and duplicates: {td.shape}\")\n",
    "\n",
    "# Encode labels\n",
    "label_encoder = LabelEncoder()\n",
    "td['Emotion'] = label_encoder.fit_transform(td['Emotion'])\n",
    "\n",
    "# Display the first 10 rows\n",
    "print(td.head(10))"
   ]
  },
  {
   "cell_type": "markdown",
   "metadata": {},
   "source": [
    "## EDA"
   ]
  },
  {
   "cell_type": "code",
   "execution_count": 14,
   "metadata": {},
   "outputs": [
    {
     "name": "stdout",
     "output_type": "stream",
     "text": [
      "Missing values in df:\n",
      "sentence            1\n",
      "labels              0\n",
      "primary_emotion     0\n",
      "emotion_words       0\n",
      "final_emotion       0\n",
      "Cleaned_Sentence    0\n",
      "dtype: int64\n",
      "\n",
      "Missing values in td:\n",
      "Corrected Sentence    0\n",
      "Emotion               0\n",
      "dtype: int64\n"
     ]
    }
   ],
   "source": [
    "# Check for missing values in df\n",
    "print(\"Missing values in df:\")\n",
    "print(df.isna().sum())\n",
    "\n",
    "# Check for missing values in td\n",
    "print(\"\\nMissing values in td:\")\n",
    "print(td.isna().sum())"
   ]
  },
  {
   "cell_type": "code",
   "execution_count": 15,
   "metadata": {},
   "outputs": [
    {
     "name": "stdout",
     "output_type": "stream",
     "text": [
      "Shape of df after dropping missing values: (9474, 6)\n",
      "Shape of td after dropping missing values: (1281, 2)\n"
     ]
    }
   ],
   "source": [
    "# Drop rows with missing values in df\n",
    "df = df.dropna()\n",
    "\n",
    "# Drop rows with missing values in td\n",
    "td = td.dropna()\n",
    "\n",
    "# Check the shape of the datasets after dropping missing values\n",
    "print(f\"Shape of df after dropping missing values: {df.shape}\")\n",
    "print(f\"Shape of td after dropping missing values: {td.shape}\")"
   ]
  },
  {
   "cell_type": "markdown",
   "metadata": {},
   "source": [
    "#### TF-IDF"
   ]
  },
  {
   "cell_type": "code",
   "execution_count": 18,
   "metadata": {},
   "outputs": [],
   "source": [
    "# Step 1: Vectorize the sentences in df using TF-IDF\n",
    "tfidf_vectorizer = TfidfVectorizer()\n",
    "X_df = tfidf_vectorizer.fit_transform(df['Cleaned_Sentence'])  # Fit and transform on df\n",
    "\n",
    "# Step 2: Vectorize the sentences in td using the same TF-IDF vectorizer\n",
    "X_td = tfidf_vectorizer.transform(td[r'Corrected Sentence'])  # Transform td using the fitted vectorizer"
   ]
  },
  {
   "cell_type": "markdown",
   "metadata": {},
   "source": [
    "### Training"
   ]
  },
  {
   "cell_type": "code",
   "execution_count": 22,
   "metadata": {},
   "outputs": [
    {
     "name": "stdout",
     "output_type": "stream",
     "text": [
      "Before resampling: Counter({2: 2093, 1: 1763, 4: 704, 5: 642, 6: 496, 0: 468, 3: 465})\n",
      "After resampling: Counter({4: 2093, 2: 2093, 5: 2093, 1: 2093, 6: 2093, 0: 2093, 3: 2093})\n",
      "Fitting 5 folds for each of 16 candidates, totalling 80 fits\n",
      "Best Parameters: {'C': 100, 'class_weight': 'balanced', 'solver': 'saga'}\n"
     ]
    }
   ],
   "source": [
    "# Step 3: Define the target variable for df (emotion labels)\n",
    "y_df = df['final_emotion']\n",
    "\n",
    "# Step 4: Split the df data into training and testing sets\n",
    "X_train, X_test, y_train, y_test = train_test_split(X_df, y_df, test_size=0.3, random_state=42)\n",
    "\n",
    "# Step 5: Apply SMOTE to balance the classes in the training data (X_train, y_train)\n",
    "smote = SMOTE(sampling_strategy='auto', random_state=42)  # You can change the sampling_strategy if needed\n",
    "X_train_resampled, y_train_resampled = smote.fit_resample(X_train, y_train)\n",
    "\n",
    "# Check the distribution of classes after resampling\n",
    "print(f\"Before resampling: {Counter(y_train)}\")\n",
    "print(f\"After resampling: {Counter(y_train_resampled)}\")\n",
    "\n",
    "# Step 6: Define your parameter grid for GridSearchCV\n",
    "param_grid = {\n",
    "    'C': [0.1, 1, 10, 100],               # Regularization strength\n",
    "    'solver': ['liblinear', 'saga'],      # Solvers for optimization\n",
    "    'class_weight': ['balanced', None]    # Weight classes for imbalance\n",
    "}\n",
    "\n",
    "# Step 7: Initialize the Logistic Regression model\n",
    "lr_model = LogisticRegression(max_iter=1000)\n",
    "\n",
    "# Step 8: Initialize GridSearchCV with Logistic Regression and parameter grid\n",
    "grid_search = GridSearchCV(estimator=lr_model, param_grid=param_grid, cv=5, n_jobs=-1, verbose=1)\n",
    "\n",
    "# Step 9: Fit GridSearchCV to the resampled training data\n",
    "grid_search.fit(X_train_resampled, y_train_resampled)\n",
    "\n",
    "# Step 10: Get the best parameters\n",
    "best_params = grid_search.best_params_\n",
    "print(\"Best Parameters:\", best_params)\n",
    "\n",
    "# Step 11: Use the best model for predictions\n",
    "best_lr_model = grid_search.best_estimator_"
   ]
  },
  {
   "cell_type": "markdown",
   "metadata": {},
   "source": [
    "### Testing"
   ]
  },
  {
   "cell_type": "code",
   "execution_count": 24,
   "metadata": {},
   "outputs": [
    {
     "name": "stdout",
     "output_type": "stream",
     "text": [
      "Classification Report (Best Model):\n",
      "              precision    recall  f1-score   support\n",
      "\n",
      "           0       0.22      0.24      0.23       190\n",
      "           1       0.44      0.36      0.40       780\n",
      "           2       0.48      0.45      0.47       868\n",
      "           3       0.17      0.18      0.17       191\n",
      "           4       0.18      0.30      0.22       298\n",
      "           5       0.24      0.25      0.24       269\n",
      "           6       0.23      0.18      0.20       247\n",
      "\n",
      "    accuracy                           0.34      2843\n",
      "   macro avg       0.28      0.28      0.28      2843\n",
      "weighted avg       0.35      0.34      0.34      2843\n",
      "\n"
     ]
    }
   ],
   "source": [
    "# Make predictions using the best model\n",
    "y_pred_best = best_lr_model.predict(X_test)\n",
    "\n",
    "# Step 13: Evaluate the model\n",
    "from sklearn.metrics import classification_report\n",
    "print(\"Classification Report (Best Model):\")\n",
    "print(classification_report(y_test, y_pred_best))"
   ]
  },
  {
   "cell_type": "markdown",
   "metadata": {},
   "source": [
    "### Plotting"
   ]
  },
  {
   "cell_type": "code",
   "execution_count": 26,
   "metadata": {},
   "outputs": [
    {
     "data": {
      "image/png": "[encoded data removed]",
      "text/plain": [
       "<Figure size 1000x700 with 2 Axes>"
      ]
     },
     "metadata": {},
     "output_type": "display_data"
    }
   ],
   "source": [
    "# Step 14: Confusion Matrix\n",
    "conf_matrix = confusion_matrix(y_test, y_pred_best)\n",
    "\n",
    "# Plot Confusion Matrix\n",
    "plt.figure(figsize=(10, 7))\n",
    "sns.heatmap(conf_matrix, annot=True, fmt='d', cmap='Blues', \n",
    "            xticklabels=best_lr_model.classes_, yticklabels=best_lr_model.classes_)\n",
    "plt.xlabel('Predicted')\n",
    "plt.ylabel('True')\n",
    "plt.title('Confusion Matrix')\n",
    "plt.show()"
   ]
  },
  {
   "cell_type": "markdown",
   "metadata": {},
   "source": [
    "The classification report for the best model (using SMOTE with GridSearchCV) shows modest improvements over the initial model that only used SMOTE. The accuracy of the best model is 0.34 (34%), which is slightly better than the 0.32 (32%) accuracy achieved by the initial model. This indicates that the combination of SMOTE and hyperparameter tuning improved the overall prediction performance, albeit marginally. However, the accuracy is still low, suggesting that there is room for further improvement in the model's ability to classify the different emotion categories correctly.\n",
    "\n",
    "When examining the class-wise performance, we can see some improvements, but challenges persist. For example, class 2 shows the best performance in terms of precision (0.48), recall (0.45), and F1-score (0.47), indicating that the model performs relatively well in identifying this class. In contrast, class 0, class 3, and class 4 still struggle, with low precision and recall values, especially for class 3, where both precision (0.17) and recall (0.18) are quite poor. These low values suggest that the model fails to identify these classes properly, resulting in high misclassification rates.\n",
    "\n",
    "Despite the improvements made by applying SMOTE and performing hyperparameter tuning, the model still has a lot of challenges to address. The poor performance in several classes, particularly those with fewer samples, highlights the ongoing issue with class imbalance. The model's ability to generalize across all emotion classes is limited, and the low performance in key classes suggests that further refinement is needed. To improve, further exploration of alternative resampling techniques like ADASYN, trying different classification models such as Random Forest or Gradient Boosting, and enhancing feature engineering could be beneficial. Additionally, more advanced hyperparameter tuning and addressing the imbalance with more sophisticated techniques may lead to better results."
   ]
  }
 ],
 "metadata": {
  "kernelspec": {
   "display_name": "nlp_env",
   "language": "python",
   "name": "python3"
  },
  "language_info": {
   "codemirror_mode": {
    "name": "ipython",
    "version": 3
   },
   "file_extension": ".py",
   "mimetype": "text/x-python",
   "name": "python",
   "nbconvert_exporter": "python",
   "pygments_lexer": "ipython3",
   "version": "3.10.9"
  }
 },
 "nbformat": 4,
 "nbformat_minor": 2
}
